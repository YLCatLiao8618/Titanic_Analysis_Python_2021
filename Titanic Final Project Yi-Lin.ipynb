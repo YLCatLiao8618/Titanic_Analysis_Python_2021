{
 "cells": [
  {
   "cell_type": "markdown",
   "metadata": {},
   "source": [
    "# An Analysis on Titanic passenger survival"
   ]
  },
  {
   "cell_type": "markdown",
   "metadata": {},
   "source": [
    "This analysis is a combination of the creator's own writing and the tools given in class\n",
    "\n",
    "The overall steps include\n",
    "1. Basic Glimpse and visualizations of the imported data\n",
    "2. Visualizations\n",
    "    - Visualizing feature and survival relationsip (Include plots and statistical analysis)\n",
    "    - Creating and analyzing new features\n",
    "    - Calculate correlation between all the features \n",
    "3. Hypothesis\n",
    "4. Dealing with Missing Data\n",
    "5. Prepare and perform predictions using classifiers for two different datasets\n",
    "    - K neighbor\n",
    "    - Random Forest\n",
    "    - Gradient Boosting\n",
    "6. Conclusion"
   ]
  },
  {
   "cell_type": "markdown",
   "metadata": {},
   "source": [
    "Here is a quick list of things I changed compared to the sample file from class:\n",
    "1. Created and changed some visualizations\n",
    "2. Added statistical analysis (Kolmogorov–Smirnov test and Chi-square)\n",
    "3. Different missing data handling\n",
    "4. Added a gradient boosting classifier"
   ]
  },
  {
   "cell_type": "markdown",
   "metadata": {},
   "source": [
    "# 1.Basic Glimpse and visualizations of the imported data"
   ]
  },
  {
   "cell_type": "code",
   "execution_count": 1,
   "metadata": {},
   "outputs": [],
   "source": [
    "# Basic libs\n",
    "import pandas as pd\n",
    "import numpy as np\n",
    "\n",
    "# Plotting libs\n",
    "import seaborn as sns\n",
    "import matplotlib.pyplot as plt\n",
    "%matplotlib inline\n",
    "plt.style.use('seaborn-notebook')\n",
    "from matplotlib.ticker import StrMethodFormatter\n",
    "from IPython.display import display, HTML\n",
    "from IPython.display import Math, Latex\n",
    "\n",
    "# ML Libs\n",
    "from sklearn.preprocessing import StandardScaler, MinMaxScaler, LabelBinarizer\n",
    "from sklearn.model_selection import train_test_split, GridSearchCV, cross_val_score\n",
    "from sklearn.model_selection import cross_validate, validation_curve\n",
    "from sklearn.metrics import accuracy_score, precision_score, recall_score, roc_curve, precision_recall_curve, auc, make_scorer, confusion_matrix, f1_score, fbeta_score\n",
    "from sklearn.ensemble import BaggingClassifier, RandomForestClassifier, AdaBoostClassifier, GradientBoostingClassifier\n",
    "\n",
    "# Stat Libs\n",
    "from scipy.stats import chi2_contingency\n",
    "from scipy import stats"
   ]
  },
  {
   "cell_type": "code",
   "execution_count": 2,
   "metadata": {},
   "outputs": [],
   "source": [
    "# Importing training and testing data \n",
    "train_df = pd.read_csv(\"./03-titanic/03-titanic/data/train.csv\")\n",
    "test_df = pd.read_csv(\"./03-titanic/03-titanic/data/test.csv\")"
   ]
  },
  {
   "cell_type": "code",
   "execution_count": 3,
   "metadata": {
    "scrolled": true
   },
   "outputs": [
    {
     "data": {
      "text/html": [
       "<div>\n",
       "<style scoped>\n",
       "    .dataframe tbody tr th:only-of-type {\n",
       "        vertical-align: middle;\n",
       "    }\n",
       "\n",
       "    .dataframe tbody tr th {\n",
       "        vertical-align: top;\n",
       "    }\n",
       "\n",
       "    .dataframe thead th {\n",
       "        text-align: right;\n",
       "    }\n",
       "</style>\n",
       "<table border=\"1\" class=\"dataframe\">\n",
       "  <thead>\n",
       "    <tr style=\"text-align: right;\">\n",
       "      <th></th>\n",
       "      <th>PassengerId</th>\n",
       "      <th>Survived</th>\n",
       "      <th>Pclass</th>\n",
       "      <th>Name</th>\n",
       "      <th>Sex</th>\n",
       "      <th>Age</th>\n",
       "      <th>SibSp</th>\n",
       "      <th>Parch</th>\n",
       "      <th>Ticket</th>\n",
       "      <th>Fare</th>\n",
       "      <th>Cabin</th>\n",
       "      <th>Embarked</th>\n",
       "    </tr>\n",
       "  </thead>\n",
       "  <tbody>\n",
       "    <tr>\n",
       "      <th>0</th>\n",
       "      <td>1</td>\n",
       "      <td>0</td>\n",
       "      <td>3</td>\n",
       "      <td>Braund, Mr. Owen Harris</td>\n",
       "      <td>male</td>\n",
       "      <td>22.0</td>\n",
       "      <td>1</td>\n",
       "      <td>0</td>\n",
       "      <td>A/5 21171</td>\n",
       "      <td>7.2500</td>\n",
       "      <td>NaN</td>\n",
       "      <td>S</td>\n",
       "    </tr>\n",
       "    <tr>\n",
       "      <th>1</th>\n",
       "      <td>2</td>\n",
       "      <td>1</td>\n",
       "      <td>1</td>\n",
       "      <td>Cumings, Mrs. John Bradley (Florence Briggs Th...</td>\n",
       "      <td>female</td>\n",
       "      <td>38.0</td>\n",
       "      <td>1</td>\n",
       "      <td>0</td>\n",
       "      <td>PC 17599</td>\n",
       "      <td>71.2833</td>\n",
       "      <td>C85</td>\n",
       "      <td>C</td>\n",
       "    </tr>\n",
       "    <tr>\n",
       "      <th>2</th>\n",
       "      <td>3</td>\n",
       "      <td>1</td>\n",
       "      <td>3</td>\n",
       "      <td>Heikkinen, Miss. Laina</td>\n",
       "      <td>female</td>\n",
       "      <td>26.0</td>\n",
       "      <td>0</td>\n",
       "      <td>0</td>\n",
       "      <td>STON/O2. 3101282</td>\n",
       "      <td>7.9250</td>\n",
       "      <td>NaN</td>\n",
       "      <td>S</td>\n",
       "    </tr>\n",
       "    <tr>\n",
       "      <th>3</th>\n",
       "      <td>4</td>\n",
       "      <td>1</td>\n",
       "      <td>1</td>\n",
       "      <td>Futrelle, Mrs. Jacques Heath (Lily May Peel)</td>\n",
       "      <td>female</td>\n",
       "      <td>35.0</td>\n",
       "      <td>1</td>\n",
       "      <td>0</td>\n",
       "      <td>113803</td>\n",
       "      <td>53.1000</td>\n",
       "      <td>C123</td>\n",
       "      <td>S</td>\n",
       "    </tr>\n",
       "    <tr>\n",
       "      <th>4</th>\n",
       "      <td>5</td>\n",
       "      <td>0</td>\n",
       "      <td>3</td>\n",
       "      <td>Allen, Mr. William Henry</td>\n",
       "      <td>male</td>\n",
       "      <td>35.0</td>\n",
       "      <td>0</td>\n",
       "      <td>0</td>\n",
       "      <td>373450</td>\n",
       "      <td>8.0500</td>\n",
       "      <td>NaN</td>\n",
       "      <td>S</td>\n",
       "    </tr>\n",
       "    <tr>\n",
       "      <th>5</th>\n",
       "      <td>6</td>\n",
       "      <td>0</td>\n",
       "      <td>3</td>\n",
       "      <td>Moran, Mr. James</td>\n",
       "      <td>male</td>\n",
       "      <td>NaN</td>\n",
       "      <td>0</td>\n",
       "      <td>0</td>\n",
       "      <td>330877</td>\n",
       "      <td>8.4583</td>\n",
       "      <td>NaN</td>\n",
       "      <td>Q</td>\n",
       "    </tr>\n",
       "    <tr>\n",
       "      <th>6</th>\n",
       "      <td>7</td>\n",
       "      <td>0</td>\n",
       "      <td>1</td>\n",
       "      <td>McCarthy, Mr. Timothy J</td>\n",
       "      <td>male</td>\n",
       "      <td>54.0</td>\n",
       "      <td>0</td>\n",
       "      <td>0</td>\n",
       "      <td>17463</td>\n",
       "      <td>51.8625</td>\n",
       "      <td>E46</td>\n",
       "      <td>S</td>\n",
       "    </tr>\n",
       "    <tr>\n",
       "      <th>7</th>\n",
       "      <td>8</td>\n",
       "      <td>0</td>\n",
       "      <td>3</td>\n",
       "      <td>Palsson, Master. Gosta Leonard</td>\n",
       "      <td>male</td>\n",
       "      <td>2.0</td>\n",
       "      <td>3</td>\n",
       "      <td>1</td>\n",
       "      <td>349909</td>\n",
       "      <td>21.0750</td>\n",
       "      <td>NaN</td>\n",
       "      <td>S</td>\n",
       "    </tr>\n",
       "    <tr>\n",
       "      <th>8</th>\n",
       "      <td>9</td>\n",
       "      <td>1</td>\n",
       "      <td>3</td>\n",
       "      <td>Johnson, Mrs. Oscar W (Elisabeth Vilhelmina Berg)</td>\n",
       "      <td>female</td>\n",
       "      <td>27.0</td>\n",
       "      <td>0</td>\n",
       "      <td>2</td>\n",
       "      <td>347742</td>\n",
       "      <td>11.1333</td>\n",
       "      <td>NaN</td>\n",
       "      <td>S</td>\n",
       "    </tr>\n",
       "    <tr>\n",
       "      <th>9</th>\n",
       "      <td>10</td>\n",
       "      <td>1</td>\n",
       "      <td>2</td>\n",
       "      <td>Nasser, Mrs. Nicholas (Adele Achem)</td>\n",
       "      <td>female</td>\n",
       "      <td>14.0</td>\n",
       "      <td>1</td>\n",
       "      <td>0</td>\n",
       "      <td>237736</td>\n",
       "      <td>30.0708</td>\n",
       "      <td>NaN</td>\n",
       "      <td>C</td>\n",
       "    </tr>\n",
       "    <tr>\n",
       "      <th>10</th>\n",
       "      <td>11</td>\n",
       "      <td>1</td>\n",
       "      <td>3</td>\n",
       "      <td>Sandstrom, Miss. Marguerite Rut</td>\n",
       "      <td>female</td>\n",
       "      <td>4.0</td>\n",
       "      <td>1</td>\n",
       "      <td>1</td>\n",
       "      <td>PP 9549</td>\n",
       "      <td>16.7000</td>\n",
       "      <td>G6</td>\n",
       "      <td>S</td>\n",
       "    </tr>\n",
       "    <tr>\n",
       "      <th>11</th>\n",
       "      <td>12</td>\n",
       "      <td>1</td>\n",
       "      <td>1</td>\n",
       "      <td>Bonnell, Miss. Elizabeth</td>\n",
       "      <td>female</td>\n",
       "      <td>58.0</td>\n",
       "      <td>0</td>\n",
       "      <td>0</td>\n",
       "      <td>113783</td>\n",
       "      <td>26.5500</td>\n",
       "      <td>C103</td>\n",
       "      <td>S</td>\n",
       "    </tr>\n",
       "    <tr>\n",
       "      <th>12</th>\n",
       "      <td>13</td>\n",
       "      <td>0</td>\n",
       "      <td>3</td>\n",
       "      <td>Saundercock, Mr. William Henry</td>\n",
       "      <td>male</td>\n",
       "      <td>20.0</td>\n",
       "      <td>0</td>\n",
       "      <td>0</td>\n",
       "      <td>A/5. 2151</td>\n",
       "      <td>8.0500</td>\n",
       "      <td>NaN</td>\n",
       "      <td>S</td>\n",
       "    </tr>\n",
       "    <tr>\n",
       "      <th>13</th>\n",
       "      <td>14</td>\n",
       "      <td>0</td>\n",
       "      <td>3</td>\n",
       "      <td>Andersson, Mr. Anders Johan</td>\n",
       "      <td>male</td>\n",
       "      <td>39.0</td>\n",
       "      <td>1</td>\n",
       "      <td>5</td>\n",
       "      <td>347082</td>\n",
       "      <td>31.2750</td>\n",
       "      <td>NaN</td>\n",
       "      <td>S</td>\n",
       "    </tr>\n",
       "    <tr>\n",
       "      <th>14</th>\n",
       "      <td>15</td>\n",
       "      <td>0</td>\n",
       "      <td>3</td>\n",
       "      <td>Vestrom, Miss. Hulda Amanda Adolfina</td>\n",
       "      <td>female</td>\n",
       "      <td>14.0</td>\n",
       "      <td>0</td>\n",
       "      <td>0</td>\n",
       "      <td>350406</td>\n",
       "      <td>7.8542</td>\n",
       "      <td>NaN</td>\n",
       "      <td>S</td>\n",
       "    </tr>\n",
       "    <tr>\n",
       "      <th>15</th>\n",
       "      <td>16</td>\n",
       "      <td>1</td>\n",
       "      <td>2</td>\n",
       "      <td>Hewlett, Mrs. (Mary D Kingcome)</td>\n",
       "      <td>female</td>\n",
       "      <td>55.0</td>\n",
       "      <td>0</td>\n",
       "      <td>0</td>\n",
       "      <td>248706</td>\n",
       "      <td>16.0000</td>\n",
       "      <td>NaN</td>\n",
       "      <td>S</td>\n",
       "    </tr>\n",
       "    <tr>\n",
       "      <th>16</th>\n",
       "      <td>17</td>\n",
       "      <td>0</td>\n",
       "      <td>3</td>\n",
       "      <td>Rice, Master. Eugene</td>\n",
       "      <td>male</td>\n",
       "      <td>2.0</td>\n",
       "      <td>4</td>\n",
       "      <td>1</td>\n",
       "      <td>382652</td>\n",
       "      <td>29.1250</td>\n",
       "      <td>NaN</td>\n",
       "      <td>Q</td>\n",
       "    </tr>\n",
       "    <tr>\n",
       "      <th>17</th>\n",
       "      <td>18</td>\n",
       "      <td>1</td>\n",
       "      <td>2</td>\n",
       "      <td>Williams, Mr. Charles Eugene</td>\n",
       "      <td>male</td>\n",
       "      <td>NaN</td>\n",
       "      <td>0</td>\n",
       "      <td>0</td>\n",
       "      <td>244373</td>\n",
       "      <td>13.0000</td>\n",
       "      <td>NaN</td>\n",
       "      <td>S</td>\n",
       "    </tr>\n",
       "    <tr>\n",
       "      <th>18</th>\n",
       "      <td>19</td>\n",
       "      <td>0</td>\n",
       "      <td>3</td>\n",
       "      <td>Vander Planke, Mrs. Julius (Emelia Maria Vande...</td>\n",
       "      <td>female</td>\n",
       "      <td>31.0</td>\n",
       "      <td>1</td>\n",
       "      <td>0</td>\n",
       "      <td>345763</td>\n",
       "      <td>18.0000</td>\n",
       "      <td>NaN</td>\n",
       "      <td>S</td>\n",
       "    </tr>\n",
       "    <tr>\n",
       "      <th>19</th>\n",
       "      <td>20</td>\n",
       "      <td>1</td>\n",
       "      <td>3</td>\n",
       "      <td>Masselmani, Mrs. Fatima</td>\n",
       "      <td>female</td>\n",
       "      <td>NaN</td>\n",
       "      <td>0</td>\n",
       "      <td>0</td>\n",
       "      <td>2649</td>\n",
       "      <td>7.2250</td>\n",
       "      <td>NaN</td>\n",
       "      <td>C</td>\n",
       "    </tr>\n",
       "  </tbody>\n",
       "</table>\n",
       "</div>"
      ],
      "text/plain": [
       "    PassengerId  Survived  Pclass  \\\n",
       "0             1         0       3   \n",
       "1             2         1       1   \n",
       "2             3         1       3   \n",
       "3             4         1       1   \n",
       "4             5         0       3   \n",
       "5             6         0       3   \n",
       "6             7         0       1   \n",
       "7             8         0       3   \n",
       "8             9         1       3   \n",
       "9            10         1       2   \n",
       "10           11         1       3   \n",
       "11           12         1       1   \n",
       "12           13         0       3   \n",
       "13           14         0       3   \n",
       "14           15         0       3   \n",
       "15           16         1       2   \n",
       "16           17         0       3   \n",
       "17           18         1       2   \n",
       "18           19         0       3   \n",
       "19           20         1       3   \n",
       "\n",
       "                                                 Name     Sex   Age  SibSp  \\\n",
       "0                             Braund, Mr. Owen Harris    male  22.0      1   \n",
       "1   Cumings, Mrs. John Bradley (Florence Briggs Th...  female  38.0      1   \n",
       "2                              Heikkinen, Miss. Laina  female  26.0      0   \n",
       "3        Futrelle, Mrs. Jacques Heath (Lily May Peel)  female  35.0      1   \n",
       "4                            Allen, Mr. William Henry    male  35.0      0   \n",
       "5                                    Moran, Mr. James    male   NaN      0   \n",
       "6                             McCarthy, Mr. Timothy J    male  54.0      0   \n",
       "7                      Palsson, Master. Gosta Leonard    male   2.0      3   \n",
       "8   Johnson, Mrs. Oscar W (Elisabeth Vilhelmina Berg)  female  27.0      0   \n",
       "9                 Nasser, Mrs. Nicholas (Adele Achem)  female  14.0      1   \n",
       "10                    Sandstrom, Miss. Marguerite Rut  female   4.0      1   \n",
       "11                           Bonnell, Miss. Elizabeth  female  58.0      0   \n",
       "12                     Saundercock, Mr. William Henry    male  20.0      0   \n",
       "13                        Andersson, Mr. Anders Johan    male  39.0      1   \n",
       "14               Vestrom, Miss. Hulda Amanda Adolfina  female  14.0      0   \n",
       "15                   Hewlett, Mrs. (Mary D Kingcome)   female  55.0      0   \n",
       "16                               Rice, Master. Eugene    male   2.0      4   \n",
       "17                       Williams, Mr. Charles Eugene    male   NaN      0   \n",
       "18  Vander Planke, Mrs. Julius (Emelia Maria Vande...  female  31.0      1   \n",
       "19                            Masselmani, Mrs. Fatima  female   NaN      0   \n",
       "\n",
       "    Parch            Ticket     Fare Cabin Embarked  \n",
       "0       0         A/5 21171   7.2500   NaN        S  \n",
       "1       0          PC 17599  71.2833   C85        C  \n",
       "2       0  STON/O2. 3101282   7.9250   NaN        S  \n",
       "3       0            113803  53.1000  C123        S  \n",
       "4       0            373450   8.0500   NaN        S  \n",
       "5       0            330877   8.4583   NaN        Q  \n",
       "6       0             17463  51.8625   E46        S  \n",
       "7       1            349909  21.0750   NaN        S  \n",
       "8       2            347742  11.1333   NaN        S  \n",
       "9       0            237736  30.0708   NaN        C  \n",
       "10      1           PP 9549  16.7000    G6        S  \n",
       "11      0            113783  26.5500  C103        S  \n",
       "12      0         A/5. 2151   8.0500   NaN        S  \n",
       "13      5            347082  31.2750   NaN        S  \n",
       "14      0            350406   7.8542   NaN        S  \n",
       "15      0            248706  16.0000   NaN        S  \n",
       "16      1            382652  29.1250   NaN        Q  \n",
       "17      0            244373  13.0000   NaN        S  \n",
       "18      0            345763  18.0000   NaN        S  \n",
       "19      0              2649   7.2250   NaN        C  "
      ]
     },
     "execution_count": 3,
     "metadata": {},
     "output_type": "execute_result"
    }
   ],
   "source": [
    "# A glimpse of what the data looks like\n",
    "train_df.head(20)"
   ]
  },
  {
   "cell_type": "code",
   "execution_count": 4,
   "metadata": {},
   "outputs": [
    {
     "name": "stdout",
     "output_type": "stream",
     "text": [
      "<class 'pandas.core.frame.DataFrame'>\n",
      "RangeIndex: 891 entries, 0 to 890\n",
      "Data columns (total 12 columns):\n",
      "PassengerId    891 non-null int64\n",
      "Survived       891 non-null int64\n",
      "Pclass         891 non-null int64\n",
      "Name           891 non-null object\n",
      "Sex            891 non-null object\n",
      "Age            714 non-null float64\n",
      "SibSp          891 non-null int64\n",
      "Parch          891 non-null int64\n",
      "Ticket         891 non-null object\n",
      "Fare           891 non-null float64\n",
      "Cabin          204 non-null object\n",
      "Embarked       889 non-null object\n",
      "dtypes: float64(2), int64(5), object(5)\n",
      "memory usage: 83.6+ KB\n"
     ]
    }
   ],
   "source": [
    "train_df.info()\n",
    "# From here we see that there are 12 columns and 891 rows in total in the train dataset\n",
    "# Age and Cabin Columns have nulls inside"
   ]
  },
  {
   "cell_type": "code",
   "execution_count": 5,
   "metadata": {},
   "outputs": [
    {
     "data": {
      "text/html": [
       "<div>\n",
       "<style scoped>\n",
       "    .dataframe tbody tr th:only-of-type {\n",
       "        vertical-align: middle;\n",
       "    }\n",
       "\n",
       "    .dataframe tbody tr th {\n",
       "        vertical-align: top;\n",
       "    }\n",
       "\n",
       "    .dataframe thead th {\n",
       "        text-align: right;\n",
       "    }\n",
       "</style>\n",
       "<table border=\"1\" class=\"dataframe\">\n",
       "  <thead>\n",
       "    <tr style=\"text-align: right;\">\n",
       "      <th></th>\n",
       "      <th>PassengerId</th>\n",
       "      <th>Survived</th>\n",
       "      <th>Pclass</th>\n",
       "      <th>Age</th>\n",
       "      <th>SibSp</th>\n",
       "      <th>Parch</th>\n",
       "      <th>Fare</th>\n",
       "    </tr>\n",
       "  </thead>\n",
       "  <tbody>\n",
       "    <tr>\n",
       "      <th>count</th>\n",
       "      <td>891.000000</td>\n",
       "      <td>891.000000</td>\n",
       "      <td>891.000000</td>\n",
       "      <td>714.000000</td>\n",
       "      <td>891.000000</td>\n",
       "      <td>891.000000</td>\n",
       "      <td>891.000000</td>\n",
       "    </tr>\n",
       "    <tr>\n",
       "      <th>mean</th>\n",
       "      <td>446.000000</td>\n",
       "      <td>0.383838</td>\n",
       "      <td>2.308642</td>\n",
       "      <td>29.699118</td>\n",
       "      <td>0.523008</td>\n",
       "      <td>0.381594</td>\n",
       "      <td>32.204208</td>\n",
       "    </tr>\n",
       "    <tr>\n",
       "      <th>std</th>\n",
       "      <td>257.353842</td>\n",
       "      <td>0.486592</td>\n",
       "      <td>0.836071</td>\n",
       "      <td>14.526497</td>\n",
       "      <td>1.102743</td>\n",
       "      <td>0.806057</td>\n",
       "      <td>49.693429</td>\n",
       "    </tr>\n",
       "    <tr>\n",
       "      <th>min</th>\n",
       "      <td>1.000000</td>\n",
       "      <td>0.000000</td>\n",
       "      <td>1.000000</td>\n",
       "      <td>0.420000</td>\n",
       "      <td>0.000000</td>\n",
       "      <td>0.000000</td>\n",
       "      <td>0.000000</td>\n",
       "    </tr>\n",
       "    <tr>\n",
       "      <th>25%</th>\n",
       "      <td>223.500000</td>\n",
       "      <td>0.000000</td>\n",
       "      <td>2.000000</td>\n",
       "      <td>20.125000</td>\n",
       "      <td>0.000000</td>\n",
       "      <td>0.000000</td>\n",
       "      <td>7.910400</td>\n",
       "    </tr>\n",
       "    <tr>\n",
       "      <th>50%</th>\n",
       "      <td>446.000000</td>\n",
       "      <td>0.000000</td>\n",
       "      <td>3.000000</td>\n",
       "      <td>28.000000</td>\n",
       "      <td>0.000000</td>\n",
       "      <td>0.000000</td>\n",
       "      <td>14.454200</td>\n",
       "    </tr>\n",
       "    <tr>\n",
       "      <th>75%</th>\n",
       "      <td>668.500000</td>\n",
       "      <td>1.000000</td>\n",
       "      <td>3.000000</td>\n",
       "      <td>38.000000</td>\n",
       "      <td>1.000000</td>\n",
       "      <td>0.000000</td>\n",
       "      <td>31.000000</td>\n",
       "    </tr>\n",
       "    <tr>\n",
       "      <th>max</th>\n",
       "      <td>891.000000</td>\n",
       "      <td>1.000000</td>\n",
       "      <td>3.000000</td>\n",
       "      <td>80.000000</td>\n",
       "      <td>8.000000</td>\n",
       "      <td>6.000000</td>\n",
       "      <td>512.329200</td>\n",
       "    </tr>\n",
       "  </tbody>\n",
       "</table>\n",
       "</div>"
      ],
      "text/plain": [
       "       PassengerId    Survived      Pclass         Age       SibSp  \\\n",
       "count   891.000000  891.000000  891.000000  714.000000  891.000000   \n",
       "mean    446.000000    0.383838    2.308642   29.699118    0.523008   \n",
       "std     257.353842    0.486592    0.836071   14.526497    1.102743   \n",
       "min       1.000000    0.000000    1.000000    0.420000    0.000000   \n",
       "25%     223.500000    0.000000    2.000000   20.125000    0.000000   \n",
       "50%     446.000000    0.000000    3.000000   28.000000    0.000000   \n",
       "75%     668.500000    1.000000    3.000000   38.000000    1.000000   \n",
       "max     891.000000    1.000000    3.000000   80.000000    8.000000   \n",
       "\n",
       "            Parch        Fare  \n",
       "count  891.000000  891.000000  \n",
       "mean     0.381594   32.204208  \n",
       "std      0.806057   49.693429  \n",
       "min      0.000000    0.000000  \n",
       "25%      0.000000    7.910400  \n",
       "50%      0.000000   14.454200  \n",
       "75%      0.000000   31.000000  \n",
       "max      6.000000  512.329200  "
      ]
     },
     "execution_count": 5,
     "metadata": {},
     "output_type": "execute_result"
    }
   ],
   "source": [
    "# Some Basic Descriptive Statistics of some columns in the data\n",
    "train_df.describe()"
   ]
  },
  {
   "cell_type": "code",
   "execution_count": 6,
   "metadata": {},
   "outputs": [
    {
     "data": {
      "text/plain": [
       "<matplotlib.axes._subplots.AxesSubplot at 0x1cedb83b470>"
      ]
     },
     "execution_count": 6,
     "metadata": {},
     "output_type": "execute_result"
    },
    {
     "data": {
      "image/png": "[encoded data removed]",
      "text/plain": [
       "<Figure size 432x288 with 1 Axes>"
      ]
     },
     "metadata": {
      "needs_background": "light"
     },
     "output_type": "display_data"
    }
   ],
   "source": [
    "# Age distribution between the three classes\n",
    "# We can see that Class 1 has highest median age while Class 3 has lowest median age\n",
    "sns.violinplot(x=\"Pclass\", y=\"Age\", data=train_df, split=True, palette='pastel', saturation=0.5)"
   ]
  },
  {
   "cell_type": "code",
   "execution_count": 7,
   "metadata": {},
   "outputs": [
    {
     "data": {
      "text/plain": [
       "<matplotlib.axes._subplots.AxesSubplot at 0x1cedbb582b0>"
      ]
     },
     "execution_count": 7,
     "metadata": {},
     "output_type": "execute_result"
    },
    {
     "data": {
      "image/png": "[encoded data removed]",
      "text/plain": [
       "<Figure size 432x288 with 1 Axes>"
      ]
     },
     "metadata": {
      "needs_background": "light"
     },
     "output_type": "display_data"
    }
   ],
   "source": [
    "sns.violinplot(x=\"Pclass\", y=\"Age\", hue=\"Sex\", data=train_df, split=True, palette='pastel', saturation=0.5)\n",
    "# We can see from this plot that mean male age differs more compared to mean female age when comparing the 3 classes"
   ]
  },
  {
   "cell_type": "markdown",
   "metadata": {},
   "source": [
    "# 2. Visualizations"
   ]
  },
  {
   "cell_type": "markdown",
   "metadata": {},
   "source": [
    "### 2a. Visualizing feature and survival relationsip"
   ]
  },
  {
   "cell_type": "code",
   "execution_count": 8,
   "metadata": {},
   "outputs": [],
   "source": [
    "## Question 1: How is survival influenced based on the features in the dataset?"
   ]
  },
  {
   "cell_type": "code",
   "execution_count": 9,
   "metadata": {},
   "outputs": [],
   "source": [
    "#### Pclass\n",
    "#### Age\n",
    "#### Gender\n",
    "#### Embarked\n",
    "#### SibSp\n",
    "#### Parch\n",
    "#### Fare"
   ]
  },
  {
   "cell_type": "code",
   "execution_count": 10,
   "metadata": {
    "scrolled": true
   },
   "outputs": [
    {
     "data": {
      "text/plain": [
       "<matplotlib.axes._subplots.AxesSubplot at 0x1cedbbf41d0>"
      ]
     },
     "execution_count": 10,
     "metadata": {},
     "output_type": "execute_result"
    },
    {
     "data": {
      "image/png": "[encoded data removed]",
      "text/plain": [
       "<Figure size 432x288 with 1 Axes>"
      ]
     },
     "metadata": {
      "needs_background": "light"
     },
     "output_type": "display_data"
    }
   ],
   "source": [
    "sns.barplot(x=\"Pclass\", y=\"Survived\", data=train_df, palette='pastel', saturation=0.5)\n",
    "# From this plot we can see that Class 1 is much more likely to survive compared to class 3"
   ]
  },
  {
   "cell_type": "code",
   "execution_count": 11,
   "metadata": {},
   "outputs": [
    {
     "name": "stdout",
     "output_type": "stream",
     "text": [
      "Pclass      1   2    3\n",
      "Survived              \n",
      "0          80  97  372\n",
      "1         136  87  119\n",
      "-----------------------\n",
      "4.549251711298793e-23\n"
     ]
    }
   ],
   "source": [
    "obs = pd.crosstab(train_df['Survived'].dropna(),\n",
    "                            train_df['Pclass'].dropna())\n",
    "chi,p,dof,exp = chi2_contingency(obs)\n",
    "print(obs)\n",
    "print('-----------------------')\n",
    "print(p)"
   ]
  },
  {
   "cell_type": "code",
   "execution_count": 12,
   "metadata": {},
   "outputs": [
    {
     "data": {
      "text/plain": [
       "<matplotlib.legend.Legend at 0x1cedbd0c240>"
      ]
     },
     "execution_count": 12,
     "metadata": {},
     "output_type": "execute_result"
    },
    {
     "data": {
      "image/png": "[encoded data removed]",
      "text/plain": [
       "<Figure size 720x288 with 2 Axes>"
      ]
     },
     "metadata": {
      "needs_background": "light"
     },
     "output_type": "display_data"
    }
   ],
   "source": [
    "fig, axes = plt.subplots(nrows=1, ncols=2, figsize=(10, 4))\n",
    "\n",
    "sns.distplot(train_df[train_df['Survived']==0].Age.dropna(),ax=axes[0], color=\"#3182bd\", label='survived')\n",
    "axes[0].legend()\n",
    "sns.distplot(train_df[train_df['Survived']==1].Age.dropna(),ax=axes[1], color=\"#feb24c\", label='not survived')\n",
    "axes[1].legend()\n",
    "\n",
    "# From here it seems as if the highest peak of both age distributions for survived and not survived are around 20-30 years.\n",
    "# However, there is a noticible peak in numbers around 0-10 years in the survived graph"
   ]
  },
  {
   "cell_type": "code",
   "execution_count": 13,
   "metadata": {},
   "outputs": [
    {
     "data": {
      "text/plain": [
       "0.1255558124005897"
      ]
     },
     "execution_count": 13,
     "metadata": {},
     "output_type": "execute_result"
    }
   ],
   "source": [
    "ks_stat, ks_p = stats.ks_2samp(train_df[train_df['Survived']==0].Age.dropna(), train_df[train_df['Survived']==1].Age.dropna())\n",
    "ks_p"
   ]
  },
  {
   "cell_type": "code",
   "execution_count": 14,
   "metadata": {},
   "outputs": [
    {
     "data": {
      "text/plain": [
       "<matplotlib.axes._subplots.AxesSubplot at 0x1cedbdb2160>"
      ]
     },
     "execution_count": 14,
     "metadata": {},
     "output_type": "execute_result"
    },
    {
     "data": {
      "image/png": "[encoded data removed]",
      "text/plain": [
       "<Figure size 432x288 with 1 Axes>"
      ]
     },
     "metadata": {
      "needs_background": "light"
     },
     "output_type": "display_data"
    }
   ],
   "source": [
    "sns.barplot(x=\"Sex\", y=\"Survived\", data=train_df, palette='pastel', saturation=0.5)\n",
    "# From this plot we can see that females seem much more likely to survive compared to males"
   ]
  },
  {
   "cell_type": "code",
   "execution_count": 15,
   "metadata": {},
   "outputs": [
    {
     "name": "stdout",
     "output_type": "stream",
     "text": [
      "Sex       female  male\n",
      "Survived              \n",
      "0             81   468\n",
      "1            233   109\n",
      "-----------------------\n",
      "1.1973570627755645e-58\n"
     ]
    }
   ],
   "source": [
    "obs = pd.crosstab(train_df['Survived'].dropna(),\n",
    "                  train_df['Sex'].dropna())\n",
    "chi,p,dof,exp = chi2_contingency(obs)\n",
    "print(obs)\n",
    "print('-----------------------')\n",
    "print(p)"
   ]
  },
  {
   "cell_type": "code",
   "execution_count": 16,
   "metadata": {},
   "outputs": [
    {
     "data": {
      "text/plain": [
       "<matplotlib.axes._subplots.AxesSubplot at 0x1cedbe21e48>"
      ]
     },
     "execution_count": 16,
     "metadata": {},
     "output_type": "execute_result"
    },
    {
     "data": {
      "image/png": "[encoded data removed]",
      "text/plain": [
       "<Figure size 432x288 with 1 Axes>"
      ]
     },
     "metadata": {
      "needs_background": "light"
     },
     "output_type": "display_data"
    }
   ],
   "source": [
    "sns.barplot(x=\"Embarked\", y=\"Survived\", data=train_df, palette='pastel', saturation=0.5)\n",
    "# From this plot it seems that embarking on port C may have highest survival"
   ]
  },
  {
   "cell_type": "code",
   "execution_count": 17,
   "metadata": {},
   "outputs": [
    {
     "name": "stdout",
     "output_type": "stream",
     "text": [
      "Embarked   C   Q    S\n",
      "Survived             \n",
      "0         75  47  427\n",
      "1         93  30  217\n",
      "-----------------------\n",
      "1.769922284120912e-06\n"
     ]
    }
   ],
   "source": [
    "obs = pd.crosstab(train_df['Survived'].dropna(),\n",
    "                  train_df['Embarked'].dropna())\n",
    "chi,p,dof,exp = chi2_contingency(obs)\n",
    "print(obs)\n",
    "print('-----------------------')\n",
    "print(p)"
   ]
  },
  {
   "cell_type": "code",
   "execution_count": 18,
   "metadata": {},
   "outputs": [
    {
     "data": {
      "text/plain": [
       "<matplotlib.axes._subplots.AxesSubplot at 0x1cedbe73240>"
      ]
     },
     "execution_count": 18,
     "metadata": {},
     "output_type": "execute_result"
    },
    {
     "data": {
      "image/png": "[encoded data removed]",
      "text/plain": [
       "<Figure size 432x288 with 1 Axes>"
      ]
     },
     "metadata": {
      "needs_background": "light"
     },
     "output_type": "display_data"
    }
   ],
   "source": [
    "sns.barplot(x=\"SibSp\", y=\"Survived\", data=train_df, palette='pastel', saturation=0.5)\n",
    "# From this plot we can see that the amount of sibling/spouse a passenger has may affect survival"
   ]
  },
  {
   "cell_type": "code",
   "execution_count": 19,
   "metadata": {},
   "outputs": [
    {
     "name": "stdout",
     "output_type": "stream",
     "text": [
      "SibSp       0    1   2   3   4  5  8\n",
      "Survived                            \n",
      "0         398   97  15  12  15  5  7\n",
      "1         210  112  13   4   3  0  0\n",
      "-----------------------\n",
      "1.5585810465902116e-06\n"
     ]
    }
   ],
   "source": [
    "obs = pd.crosstab(train_df['Survived'].dropna(),\n",
    "                  train_df['SibSp'].dropna())\n",
    "chi,p,dof,exp = chi2_contingency(obs)\n",
    "print(obs)\n",
    "print('-----------------------')\n",
    "print(p)"
   ]
  },
  {
   "cell_type": "code",
   "execution_count": 20,
   "metadata": {},
   "outputs": [
    {
     "data": {
      "text/plain": [
       "<matplotlib.axes._subplots.AxesSubplot at 0x1cedbe7c1d0>"
      ]
     },
     "execution_count": 20,
     "metadata": {},
     "output_type": "execute_result"
    },
    {
     "data": {
      "image/png": "[encoded data removed]",
      "text/plain": [
       "<Figure size 432x288 with 1 Axes>"
      ]
     },
     "metadata": {
      "needs_background": "light"
     },
     "output_type": "display_data"
    }
   ],
   "source": [
    "sns.barplot(x=\"Parch\", y=\"Survived\", data=train_df, palette='pastel', saturation=0.5)\n",
    "# From this plot we can see that Parent/Child amount may or may not influence survival"
   ]
  },
  {
   "cell_type": "code",
   "execution_count": 21,
   "metadata": {},
   "outputs": [
    {
     "name": "stdout",
     "output_type": "stream",
     "text": [
      "Parch       0   1   2  3  4  5  6\n",
      "Survived                         \n",
      "0         445  53  40  2  4  4  1\n",
      "1         233  65  40  3  0  1  0\n",
      "-----------------------\n",
      "9.703526421039997e-05\n"
     ]
    }
   ],
   "source": [
    "obs = pd.crosstab(train_df['Survived'].dropna(),\n",
    "                  train_df['Parch'].dropna())\n",
    "chi,p,dof,exp = chi2_contingency(obs)\n",
    "print(obs)\n",
    "print('-----------------------')\n",
    "print(p)"
   ]
  },
  {
   "cell_type": "code",
   "execution_count": 22,
   "metadata": {},
   "outputs": [
    {
     "data": {
      "text/plain": [
       "<matplotlib.legend.Legend at 0x1cedbfefcf8>"
      ]
     },
     "execution_count": 22,
     "metadata": {},
     "output_type": "execute_result"
    },
    {
     "data": {
      "image/png": "[encoded data removed]",
      "text/plain": [
       "<Figure size 720x288 with 2 Axes>"
      ]
     },
     "metadata": {
      "needs_background": "light"
     },
     "output_type": "display_data"
    }
   ],
   "source": [
    "fig, axes = plt.subplots(nrows=1, ncols=2, figsize=(10, 4))\n",
    "\n",
    "sns.distplot(train_df[train_df['Survived']==0].Fare.dropna(),ax=axes[0], color=\"#3182bd\", label='survived')\n",
    "axes[0].legend()\n",
    "sns.distplot(train_df[train_df['Survived']==1].Fare.dropna(),ax=axes[1], color=\"#feb24c\", label='not survived')\n",
    "axes[1].legend()\n",
    "\n",
    "# From here it seems that having a higher Fare does not help in survival"
   ]
  },
  {
   "cell_type": "code",
   "execution_count": 23,
   "metadata": {},
   "outputs": [
    {
     "data": {
      "text/plain": [
       "1.8678359776799793e-17"
      ]
     },
     "execution_count": 23,
     "metadata": {},
     "output_type": "execute_result"
    }
   ],
   "source": [
    "ks_stat, ks_p = stats.ks_2samp(train_df[train_df['Survived']==0].Fare.dropna(), train_df[train_df['Survived']==1].Fare.dropna())\n",
    "ks_p"
   ]
  },
  {
   "cell_type": "markdown",
   "metadata": {},
   "source": [
    "### 2b. Creating and analyzing new features - 'relatives' , 'alone', and 'deck'"
   ]
  },
  {
   "cell_type": "code",
   "execution_count": 24,
   "metadata": {},
   "outputs": [
    {
     "data": {
      "text/html": [
       "<table style=\"width:70\"><tr><th> Train&nbsp;&nbsp;&nbsp;&nbsp;&nbsp;&nbsp;&nbsp;&nbsp;&nbsp;&nbsp;&nbsp;&nbsp;&nbsp;&nbsp;&nbsp;&nbsp;&nbsp;&nbsp;&nbsp;&nbsp;&nbsp;&nbsp;&nbsp;&nbsp;&nbsp;&nbsp;&nbsp;&nbsp;&nbsp;&nbsp;&nbsp;&nbsp;&nbsp;&nbsp;&nbsp;&nbsp;&nbsp;&nbsp;&nbsp;&nbsp;&nbsp;&nbsp;&nbsp;&nbsp;&nbsp;&nbsp;&nbsp;&nbsp;&nbsp;&nbsp;&nbsp;&nbsp;&nbsp;&nbsp;&nbsp;&nbsp;&nbsp;&nbsp;&nbsp;&nbsp;&nbsp;&nbsp;&nbsp;&nbsp;</th></tr></table>"
      ],
      "text/plain": [
       "<IPython.core.display.HTML object>"
      ]
     },
     "metadata": {},
     "output_type": "display_data"
    },
    {
     "data": {
      "text/html": [
       "<div>\n",
       "<style scoped>\n",
       "    .dataframe tbody tr th:only-of-type {\n",
       "        vertical-align: middle;\n",
       "    }\n",
       "\n",
       "    .dataframe tbody tr th {\n",
       "        vertical-align: top;\n",
       "    }\n",
       "\n",
       "    .dataframe thead th {\n",
       "        text-align: right;\n",
       "    }\n",
       "</style>\n",
       "<table border=\"1\" class=\"dataframe\">\n",
       "  <thead>\n",
       "    <tr style=\"text-align: right;\">\n",
       "      <th></th>\n",
       "      <th>alone</th>\n",
       "    </tr>\n",
       "  </thead>\n",
       "  <tbody>\n",
       "    <tr>\n",
       "      <th>Yes</th>\n",
       "      <td>537</td>\n",
       "    </tr>\n",
       "    <tr>\n",
       "      <th>No</th>\n",
       "      <td>354</td>\n",
       "    </tr>\n",
       "  </tbody>\n",
       "</table>\n",
       "</div>"
      ],
      "text/plain": [
       "     alone\n",
       "Yes    537\n",
       "No     354"
      ]
     },
     "metadata": {},
     "output_type": "display_data"
    },
    {
     "data": {
      "text/html": [
       "<table style=\"width:70\"><tr><th> Test&nbsp;&nbsp;&nbsp;&nbsp;&nbsp;&nbsp;&nbsp;&nbsp;&nbsp;&nbsp;&nbsp;&nbsp;&nbsp;&nbsp;&nbsp;&nbsp;&nbsp;&nbsp;&nbsp;&nbsp;&nbsp;&nbsp;&nbsp;&nbsp;&nbsp;&nbsp;&nbsp;&nbsp;&nbsp;&nbsp;&nbsp;&nbsp;&nbsp;&nbsp;&nbsp;&nbsp;&nbsp;&nbsp;&nbsp;&nbsp;&nbsp;&nbsp;&nbsp;&nbsp;&nbsp;&nbsp;&nbsp;&nbsp;&nbsp;&nbsp;&nbsp;&nbsp;&nbsp;&nbsp;&nbsp;&nbsp;&nbsp;&nbsp;&nbsp;&nbsp;&nbsp;&nbsp;&nbsp;&nbsp;&nbsp;</th></tr></table>"
      ],
      "text/plain": [
       "<IPython.core.display.HTML object>"
      ]
     },
     "metadata": {},
     "output_type": "display_data"
    },
    {
     "data": {
      "text/html": [
       "<div>\n",
       "<style scoped>\n",
       "    .dataframe tbody tr th:only-of-type {\n",
       "        vertical-align: middle;\n",
       "    }\n",
       "\n",
       "    .dataframe tbody tr th {\n",
       "        vertical-align: top;\n",
       "    }\n",
       "\n",
       "    .dataframe thead th {\n",
       "        text-align: right;\n",
       "    }\n",
       "</style>\n",
       "<table border=\"1\" class=\"dataframe\">\n",
       "  <thead>\n",
       "    <tr style=\"text-align: right;\">\n",
       "      <th></th>\n",
       "      <th>alone</th>\n",
       "    </tr>\n",
       "  </thead>\n",
       "  <tbody>\n",
       "    <tr>\n",
       "      <th>Yes</th>\n",
       "      <td>253</td>\n",
       "    </tr>\n",
       "    <tr>\n",
       "      <th>No</th>\n",
       "      <td>165</td>\n",
       "    </tr>\n",
       "  </tbody>\n",
       "</table>\n",
       "</div>"
      ],
      "text/plain": [
       "     alone\n",
       "Yes    253\n",
       "No     165"
      ]
     },
     "metadata": {},
     "output_type": "display_data"
    }
   ],
   "source": [
    "\n",
    "def header(title, width=100):\n",
    "    fmt_title = title + '&nbsp;' * (width - len(title))\n",
    "    tpl = '<table style=\"width:{width}\"><tr><th>{title}</th></tr></table>'\n",
    "    html = tpl.format(title=fmt_title, width=width)\n",
    "    return HTML(html)\n",
    "\n",
    "\n",
    "data = [(' Train', train_df), (' Test', test_df)]\n",
    "for label, dataset in data:\n",
    "    dataset['relatives'] = dataset['SibSp'] + dataset['Parch']\n",
    "    dataset.loc[dataset['relatives'] > 0, 'alone'] = 'No'\n",
    "    dataset.loc[dataset['relatives'] == 0, 'alone'] = 'Yes'\n",
    "    counted = dataset['alone'].value_counts().to_frame()\n",
    "    display(header(label, 70))\n",
    "    display(counted)\n"
   ]
  },
  {
   "cell_type": "code",
   "execution_count": 25,
   "metadata": {},
   "outputs": [
    {
     "name": "stdout",
     "output_type": "stream",
     "text": [
      "UA\n",
      "UA\n"
     ]
    }
   ],
   "source": [
    "# Using regex in python\n",
    "import re\n",
    "def extract_1(cabin): \n",
    "    return re.compile(\"([A-Z]+)\", re.IGNORECASE).search(cabin).group()\n",
    "\n",
    "def extract_2(cabin): \n",
    "    return re.compile(\"([a-zA-Z]+)\").search(cabin).group()\n",
    "\n",
    "print(extract_1('UA1223'))\n",
    "print(extract_2('UA1223'))\n",
    "\n"
   ]
  },
  {
   "cell_type": "code",
   "execution_count": 26,
   "metadata": {},
   "outputs": [],
   "source": [
    "import re\n",
    "# Mapping first char to a specific location in the boat.\n",
    "deck = {\"A\": 1, \"B\": 2, \"C\": 3, \"D\": 4, \"E\": 5, \"F\": 6, \"G\": 7, \"U\": 8}\n",
    "new_train = train_df\n",
    "new_test = test_df\n",
    "data = [new_train, new_test]\n",
    "\n",
    "def extract_letter_prefix(x):\n",
    "    return re.compile(\"([a-zA-Z]+)\").search(x).group()\n",
    "\n",
    "for dataset in data:\n",
    "    dataset['Cabin'] = dataset['Cabin'].fillna(\"U0\")   # Setting U0 Cabin if unknown.\n",
    "    dataset['Deck'] = dataset['Cabin'].map(extract_letter_prefix)\n",
    "    dataset['Deck'] = dataset['Deck'].map(deck)\n",
    "    dataset['Deck'] = dataset['Deck'].fillna(0)\n",
    "    dataset['Deck'] = dataset['Deck'].astype(int)\n",
    "# Drop the cabin as we already extracted Deck.\n",
    "new_train = new_train.drop(['Cabin'], axis=1)\n",
    "new_test = new_test.drop(['Cabin'], axis=1)\n"
   ]
  },
  {
   "cell_type": "markdown",
   "metadata": {},
   "source": [
    "#### 2b-continued. Visualizing relationship of \"Survival\" and the new features"
   ]
  },
  {
   "cell_type": "code",
   "execution_count": 27,
   "metadata": {},
   "outputs": [
    {
     "data": {
      "text/plain": [
       "<matplotlib.axes._subplots.AxesSubplot at 0x1cedc137518>"
      ]
     },
     "execution_count": 27,
     "metadata": {},
     "output_type": "execute_result"
    },
    {
     "data": {
      "image/png": "[encoded data removed]",
      "text/plain": [
       "<Figure size 432x288 with 1 Axes>"
      ]
     },
     "metadata": {
      "needs_background": "light"
     },
     "output_type": "display_data"
    }
   ],
   "source": [
    "sns.barplot(x=\"alone\", y=\"Survived\", data=train_df, palette='pastel', saturation=0.5)\n",
    "# From this plot we can see being alone has lower chances of survival, hence the new 'alone' feature will be considered to add into the prediction model"
   ]
  },
  {
   "cell_type": "code",
   "execution_count": 28,
   "metadata": {},
   "outputs": [
    {
     "name": "stdout",
     "output_type": "stream",
     "text": [
      "alone      No  Yes\n",
      "Survived          \n",
      "0         175  374\n",
      "1         179  163\n",
      "-----------------------\n",
      "1.9726543846517183e-09\n"
     ]
    }
   ],
   "source": [
    "obs = pd.crosstab(train_df['Survived'].dropna(),\n",
    "                  train_df['alone'].dropna())\n",
    "chi,p,dof,exp = chi2_contingency(obs)\n",
    "print(obs)\n",
    "print('-----------------------')\n",
    "print(p)"
   ]
  },
  {
   "cell_type": "code",
   "execution_count": 29,
   "metadata": {},
   "outputs": [
    {
     "data": {
      "text/plain": [
       "<matplotlib.axes._subplots.AxesSubplot at 0x1cedc1fc438>"
      ]
     },
     "execution_count": 29,
     "metadata": {},
     "output_type": "execute_result"
    },
    {
     "data": {
      "image/png": "[encoded data removed]",
      "text/plain": [
       "<Figure size 432x288 with 1 Axes>"
      ]
     },
     "metadata": {
      "needs_background": "light"
     },
     "output_type": "display_data"
    }
   ],
   "source": [
    "sns.barplot(x=\"relatives\", y=\"Survived\", data=train_df, palette='pastel', saturation=0.5)"
   ]
  },
  {
   "cell_type": "code",
   "execution_count": 30,
   "metadata": {},
   "outputs": [
    {
     "name": "stdout",
     "output_type": "stream",
     "text": [
      "relatives   0   1   2   3   4   5   6   7   10\n",
      "Survived                                      \n",
      "0          374  72  43   8  12  19   8   6   7\n",
      "1          163  89  59  21   3   3   4   0   0\n",
      "-----------------------\n",
      "3.579668975443533e-14\n"
     ]
    }
   ],
   "source": [
    "obs = pd.crosstab(train_df['Survived'].dropna(),\n",
    "                  train_df['relatives'].dropna())\n",
    "chi,p,dof,exp = chi2_contingency(obs)\n",
    "print(obs)\n",
    "print('-----------------------')\n",
    "print(p)"
   ]
  },
  {
   "cell_type": "code",
   "execution_count": 31,
   "metadata": {},
   "outputs": [
    {
     "data": {
      "text/plain": [
       "<matplotlib.axes._subplots.AxesSubplot at 0x1cedc235048>"
      ]
     },
     "execution_count": 31,
     "metadata": {},
     "output_type": "execute_result"
    },
    {
     "data": {
      "image/png": "[encoded data removed]",
      "text/plain": [
       "<Figure size 432x288 with 1 Axes>"
      ]
     },
     "metadata": {
      "needs_background": "light"
     },
     "output_type": "display_data"
    }
   ],
   "source": [
    "sns.barplot(x=\"Deck\", y=\"Survived\", data=train_df, palette='pastel', saturation=0.5)"
   ]
  },
  {
   "cell_type": "code",
   "execution_count": 32,
   "metadata": {
    "scrolled": false
   },
   "outputs": [
    {
     "name": "stdout",
     "output_type": "stream",
     "text": [
      "Deck      0  1   2   3   4   5  6  7    8\n",
      "Survived                                 \n",
      "0         1  8  12  24   8   8  5  2  481\n",
      "1         0  7  35  35  25  24  8  2  206\n",
      "-----------------------\n",
      "6.326020042314704e-18\n"
     ]
    }
   ],
   "source": [
    "obs = pd.crosstab(train_df['Survived'].dropna(),\n",
    "                  train_df['Deck'].dropna())\n",
    "chi,p,dof,exp = chi2_contingency(obs)\n",
    "print(obs)\n",
    "print('-----------------------')\n",
    "print(p)"
   ]
  },
  {
   "cell_type": "markdown",
   "metadata": {},
   "source": [
    "### 2c. Calculate correlation between all the features "
   ]
  },
  {
   "cell_type": "code",
   "execution_count": 33,
   "metadata": {},
   "outputs": [],
   "source": [
    "# Numeric Features\n",
    "numeric_features = ['Age', 'Fare']\n",
    "# Categorical Features\n",
    "ordinal_features = ['Pclass', 'SibSp', 'Parch','relatives','alone']\n",
    "nominal_features = ['Sex', 'Embarked','Deck']"
   ]
  },
  {
   "cell_type": "code",
   "execution_count": 34,
   "metadata": {
    "scrolled": true
   },
   "outputs": [
    {
     "data": {
      "image/png": "[encoded data removed]",
      "text/plain": [
       "<Figure size 864x864 with 2 Axes>"
      ]
     },
     "metadata": {
      "needs_background": "light"
     },
     "output_type": "display_data"
    }
   ],
   "source": [
    "cor_matrix = new_train[numeric_features + ordinal_features].corr().round(3)\n",
    "# Draw a heatmap \n",
    "fig = plt.figure(figsize=(12,12));\n",
    "sns.heatmap(cor_matrix, annot=True, center=0, \n",
    "            cmap = sns.diverging_palette(0, 100, 90, 60, as_cmap=True),\n",
    "            ax=plt.subplot(111));\n",
    "plt.show()"
   ]
  },
  {
   "cell_type": "markdown",
   "metadata": {},
   "source": [
    "# 3. Hypothesis "
   ]
  },
  {
   "cell_type": "markdown",
   "metadata": {},
   "source": [
    "From the the results of the KS and chi-square tests, it seems that only age does not reject the null hypothesis. All the other features p-values reject null hypothesis so will be considered to not be of no influence to survival. A hypothesis of \"Age is not an important feature for survival\" will be made here.\n",
    "\n",
    "We will use two datasets to test whether age is an important feature or not. One dataset including all features and the other including all features but age to run K neighbor/ Random Forest/ Gradient Boosting Classifiers to predict survival. If there is significant difference for all models in prediction capability, then a clearer picture of whether age is important or not could be seen."
   ]
  },
  {
   "cell_type": "markdown",
   "metadata": {},
   "source": [
    "# 4. Dealing with Missing Data"
   ]
  },
  {
   "cell_type": "code",
   "execution_count": 35,
   "metadata": {},
   "outputs": [
    {
     "name": "stdout",
     "output_type": "stream",
     "text": [
      "<class 'pandas.core.frame.DataFrame'>\n",
      "RangeIndex: 891 entries, 0 to 890\n",
      "Data columns (total 14 columns):\n",
      "PassengerId    891 non-null int64\n",
      "Survived       891 non-null int64\n",
      "Pclass         891 non-null int64\n",
      "Name           891 non-null object\n",
      "Sex            891 non-null object\n",
      "Age            714 non-null float64\n",
      "SibSp          891 non-null int64\n",
      "Parch          891 non-null int64\n",
      "Ticket         891 non-null object\n",
      "Fare           891 non-null float64\n",
      "Embarked       889 non-null object\n",
      "relatives      891 non-null int64\n",
      "alone          891 non-null object\n",
      "Deck           891 non-null int32\n",
      "dtypes: float64(2), int32(1), int64(6), object(5)\n",
      "memory usage: 94.1+ KB\n"
     ]
    }
   ],
   "source": [
    "new_train.info()\n",
    "# From here we can see that Age has a lot of null values"
   ]
  },
  {
   "cell_type": "code",
   "execution_count": 36,
   "metadata": {},
   "outputs": [
    {
     "data": {
      "text/plain": [
       "'\\n# Original Method: populate age with a random distribution centered on \\'mean\\' value with \\'std\\' spread.\\ndata = [new_train,  new_test]\\n\\nfor dataset in data:\\n    mean = dataset[\"Age\"].mean()\\n    std = dataset[\"Age\"].std()\\n    is_null = dataset[\"Age\"].isnull().sum()\\n    # compute random numbers between the mean, std and is_null\\n    rand_age = np.random.randint(mean - std, mean + std, size = is_null)\\n    # fill NaN values in Age column with random values generated\\n    age_slice = dataset[\"Age\"].copy()\\n    age_slice[np.isnan(age_slice)] = rand_age\\n    dataset[\"Age\"] = age_slice\\n    dataset[\"Age\"] = dataset[\"Age\"].astype(int)\\nnew_train[\"Age\"].isnull().sum()\\n'"
      ]
     },
     "execution_count": 36,
     "metadata": {},
     "output_type": "execute_result"
    }
   ],
   "source": [
    "'''\n",
    "# Original Method: populate age with a random distribution centered on 'mean' value with 'std' spread.\n",
    "data = [new_train,  new_test]\n",
    "\n",
    "for dataset in data:\n",
    "    mean = dataset[\"Age\"].mean()\n",
    "    std = dataset[\"Age\"].std()\n",
    "    is_null = dataset[\"Age\"].isnull().sum()\n",
    "    # compute random numbers between the mean, std and is_null\n",
    "    rand_age = np.random.randint(mean - std, mean + std, size = is_null)\n",
    "    # fill NaN values in Age column with random values generated\n",
    "    age_slice = dataset[\"Age\"].copy()\n",
    "    age_slice[np.isnan(age_slice)] = rand_age\n",
    "    dataset[\"Age\"] = age_slice\n",
    "    dataset[\"Age\"] = dataset[\"Age\"].astype(int)\n",
    "new_train[\"Age\"].isnull().sum()\n",
    "'''"
   ]
  },
  {
   "cell_type": "code",
   "execution_count": 37,
   "metadata": {},
   "outputs": [
    {
     "name": "stderr",
     "output_type": "stream",
     "text": [
      "C:\\Users\\Catherine Liao\\Anaconda3\\lib\\site-packages\\ipykernel_launcher.py:23: SettingWithCopyWarning: \n",
      "A value is trying to be set on a copy of a slice from a DataFrame.\n",
      "Try using .loc[row_indexer,col_indexer] = value instead\n",
      "\n",
      "See the caveats in the documentation: http://pandas.pydata.org/pandas-docs/stable/indexing.html#indexing-view-versus-copy\n",
      "C:\\Users\\Catherine Liao\\Anaconda3\\lib\\site-packages\\ipykernel_launcher.py:24: SettingWithCopyWarning: \n",
      "A value is trying to be set on a copy of a slice from a DataFrame.\n",
      "Try using .loc[row_indexer,col_indexer] = value instead\n",
      "\n",
      "See the caveats in the documentation: http://pandas.pydata.org/pandas-docs/stable/indexing.html#indexing-view-versus-copy\n"
     ]
    }
   ],
   "source": [
    "# Due to the visualization results, we can assume that the distribution of age is different for the three passenger classes\n",
    "# In this step, we will populate age from a normal distribution for each passenger class\n",
    "\n",
    "datac1 = new_train[new_train['Pclass']==1]\n",
    "datac2 = new_train[new_train['Pclass']==2]\n",
    "datac3 = new_train[new_train['Pclass']==3]\n",
    "\n",
    "datatestc1 = new_test[new_test['Pclass']==1]\n",
    "datatestc2 = new_test[new_test['Pclass']==2]\n",
    "datatestc3 = new_test[new_test['Pclass']==3]\n",
    "\n",
    "data_stratified = [datac1, datac2, datac3 , datatestc1, datatestc2, datatestc3]\n",
    "\n",
    "for dataset in data_stratified:\n",
    "    mean = dataset[\"Age\"].mean()\n",
    "    std = dataset[\"Age\"].std()\n",
    "    is_null = dataset[\"Age\"].isnull().sum()\n",
    "    # compute random numbers from a normal distribution of the mean, std and is_null\n",
    "    rand_age = np.random.normal(mean, std, size = is_null).astype(int)\n",
    "    # fill NaN values in Age column with random values generated\n",
    "    age_slice = dataset[\"Age\"].copy()\n",
    "    age_slice[np.isnan(age_slice)] = rand_age\n",
    "    dataset[\"Age\"] = age_slice\n",
    "    dataset[\"Age\"] = dataset[\"Age\"].astype(int)\n"
   ]
  },
  {
   "cell_type": "code",
   "execution_count": 38,
   "metadata": {},
   "outputs": [],
   "source": [
    "new_train2= pd.concat([datac1,datac2,datac3])\n",
    "new_test2 = pd.concat([datatestc1,datatestc2,datatestc3])"
   ]
  },
  {
   "cell_type": "code",
   "execution_count": 39,
   "metadata": {},
   "outputs": [
    {
     "name": "stdout",
     "output_type": "stream",
     "text": [
      "--- Drop train records with empty Embarked ---\n",
      "# Recs before: 891\n",
      "# Recs after : 889\n"
     ]
    }
   ],
   "source": [
    "# Dropping empty embarked data\n",
    "print('--- Drop train records with empty Embarked ---')\n",
    "print('# Recs before: {0}'.format(new_train2.shape[0]))\n",
    "\n",
    "new_train2 = new_train2.dropna()\n",
    "\n",
    "print('# Recs after : {0}'.format(new_train2.shape[0]))"
   ]
  },
  {
   "cell_type": "code",
   "execution_count": 40,
   "metadata": {},
   "outputs": [],
   "source": [
    "new_train = new_train2\n",
    "new_test = new_test2"
   ]
  },
  {
   "cell_type": "code",
   "execution_count": 41,
   "metadata": {},
   "outputs": [
    {
     "name": "stdout",
     "output_type": "stream",
     "text": [
      "<class 'pandas.core.frame.DataFrame'>\n",
      "Int64Index: 889 entries, 1 to 890\n",
      "Data columns (total 14 columns):\n",
      "PassengerId    889 non-null int64\n",
      "Survived       889 non-null int64\n",
      "Pclass         889 non-null int64\n",
      "Name           889 non-null object\n",
      "Sex            889 non-null object\n",
      "Age            889 non-null int32\n",
      "SibSp          889 non-null int64\n",
      "Parch          889 non-null int64\n",
      "Ticket         889 non-null object\n",
      "Fare           889 non-null float64\n",
      "Embarked       889 non-null object\n",
      "relatives      889 non-null int64\n",
      "alone          889 non-null object\n",
      "Deck           889 non-null int32\n",
      "dtypes: float64(1), int32(2), int64(6), object(5)\n",
      "memory usage: 97.2+ KB\n"
     ]
    }
   ],
   "source": [
    "new_train.info()"
   ]
  },
  {
   "cell_type": "code",
   "execution_count": 42,
   "metadata": {},
   "outputs": [
    {
     "name": "stdout",
     "output_type": "stream",
     "text": [
      " \n",
      "--- Drop test records with empty Fare ---\n",
      "# Recs before: 418\n",
      "# Recs after : 417\n"
     ]
    },
    {
     "name": "stderr",
     "output_type": "stream",
     "text": [
      "C:\\Users\\Catherine Liao\\Anaconda3\\lib\\site-packages\\ipykernel_launcher.py:8: SettingWithCopyWarning: \n",
      "A value is trying to be set on a copy of a slice from a DataFrame.\n",
      "Try using .loc[row_indexer,col_indexer] = value instead\n",
      "\n",
      "See the caveats in the documentation: http://pandas.pydata.org/pandas-docs/stable/indexing.html#indexing-view-versus-copy\n",
      "  \n"
     ]
    }
   ],
   "source": [
    "# Changing type from float64 to int32\n",
    "new_train['Fare'] = new_train['Fare'].fillna(0).astype(int)\n",
    "\n",
    "print(' ')\n",
    "print('--- Drop test records with empty Fare ---')\n",
    "print('# Recs before: {0}'.format(new_test.shape[0]))\n",
    "new_test = new_test[new_test['Fare'].notna()]\n",
    "new_test['Fare'] = new_test['Fare'].astype(int)\n",
    "print('# Recs after : {0}'.format(new_test.shape[0]))\n"
   ]
  },
  {
   "cell_type": "markdown",
   "metadata": {},
   "source": [
    "# 5. Prepare and perform predictions for two different datasets"
   ]
  },
  {
   "cell_type": "code",
   "execution_count": 43,
   "metadata": {},
   "outputs": [
    {
     "name": "stdout",
     "output_type": "stream",
     "text": [
      "(889, 21)\n",
      "(417, 21)\n"
     ]
    }
   ],
   "source": [
    "# First we prepare the first dataset using all features. \n",
    "# Make sure we get reproducible results.\n",
    "import random\n",
    "random.seed(1234)\n",
    "\n",
    "def model_x_df(df):\n",
    "    predictors = ['Pclass', 'Age', 'Parch', 'Fare', 'relatives']\n",
    "    data_x = df[predictors].copy()\n",
    "    data_sex_x = pd.get_dummies(df.Sex, prefix='sex')\n",
    "    data_alone_x = pd.get_dummies(df.alone, prefix='alone')\n",
    "    data_embarked_x = pd.get_dummies(df.Embarked, prefix='emb')\n",
    "    data_deck_x = pd.get_dummies(df.Deck, prefix='deck')\n",
    "    result = pd.concat(\n",
    "        [data_x, data_sex_x, data_alone_x, data_embarked_x, data_deck_x], axis=1)\n",
    "    required_fields = [\n",
    "        'Pclass', 'Age', 'Parch', 'Fare', 'relatives', \n",
    "        'sex_female', 'sex_male',\n",
    "        'alone_No', 'alone_Yes', \n",
    "        'emb_C', 'emb_Q', 'emb_S', \n",
    "        'deck_0', 'deck_1', 'deck_2', 'deck_3', 'deck_4', 'deck_5', 'deck_6', 'deck_7', 'deck_8']\n",
    "    for req_field in required_fields:\n",
    "        if req_field not in result.columns:\n",
    "             result[req_field] = 0\n",
    "    # Make sure the fields are ordered the same way.\n",
    "    return result[required_fields]\n",
    "\n",
    "def model_y_1d(df):\n",
    "    return df['Survived'].values.ravel()\n",
    "\n",
    "train_x = model_x_df(new_train)\n",
    "train_y = model_y_1d(new_train)\n",
    "\n",
    "test_x = model_x_df(new_test)\n",
    "test_y = model_y_1d(new_test)\n",
    "\n",
    "print(train_x.shape)\n",
    "print(test_x.shape)"
   ]
  },
  {
   "cell_type": "markdown",
   "metadata": {},
   "source": [
    "### 5a. Using K Neighbors Classifier to predict survival"
   ]
  },
  {
   "cell_type": "code",
   "execution_count": 44,
   "metadata": {},
   "outputs": [],
   "source": [
    "from sklearn.ensemble import BaggingClassifier\n",
    "from sklearn.neighbors import KNeighborsClassifier\n",
    "clf = BaggingClassifier(\n",
    "    KNeighborsClassifier(), max_samples=0.5, max_features=0.5)\n",
    "bagging = clf.fit(train_x, train_y)"
   ]
  },
  {
   "cell_type": "code",
   "execution_count": 45,
   "metadata": {},
   "outputs": [],
   "source": [
    "def print_score(title, mean_score):\n",
    "    print('{0} = {1:.1f}%'.format(title, mean_score*100))"
   ]
  },
  {
   "cell_type": "code",
   "execution_count": 46,
   "metadata": {},
   "outputs": [
    {
     "name": "stdout",
     "output_type": "stream",
     "text": [
      "Simple Cross-Validation Score = 74.1%\n"
     ]
    }
   ],
   "source": [
    "# Basic - Cross Validation without optimization\n",
    "# Did 10-fold instead of 5\n",
    "cv_scores = cross_val_score(bagging, train_x, train_y, cv=10)\n",
    "print_score('Simple Cross-Validation Score', cv_scores.mean())"
   ]
  },
  {
   "cell_type": "code",
   "execution_count": 47,
   "metadata": {},
   "outputs": [
    {
     "name": "stdout",
     "output_type": "stream",
     "text": [
      "<class 'pandas.core.frame.DataFrame'>\n",
      "Int64Index: 417 entries, 7 to 417\n",
      "Data columns (total 21 columns):\n",
      "Pclass        417 non-null int64\n",
      "Age           417 non-null int32\n",
      "Parch         417 non-null int64\n",
      "Fare          417 non-null int32\n",
      "relatives     417 non-null int64\n",
      "sex_female    417 non-null uint8\n",
      "sex_male      417 non-null uint8\n",
      "alone_No      417 non-null uint8\n",
      "alone_Yes     417 non-null uint8\n",
      "emb_C         417 non-null uint8\n",
      "emb_Q         417 non-null uint8\n",
      "emb_S         417 non-null uint8\n",
      "deck_0        417 non-null int64\n",
      "deck_1        417 non-null uint8\n",
      "deck_2        417 non-null uint8\n",
      "deck_3        417 non-null uint8\n",
      "deck_4        417 non-null uint8\n",
      "deck_5        417 non-null uint8\n",
      "deck_6        417 non-null uint8\n",
      "deck_7        417 non-null uint8\n",
      "deck_8        417 non-null uint8\n",
      "dtypes: int32(2), int64(4), uint8(15)\n",
      "memory usage: 25.7 KB\n"
     ]
    }
   ],
   "source": [
    "test_x.info()"
   ]
  },
  {
   "cell_type": "code",
   "execution_count": 48,
   "metadata": {},
   "outputs": [
    {
     "name": "stdout",
     "output_type": "stream",
     "text": [
      "Most important score!\n",
      "Test Score = 69.5%\n"
     ]
    }
   ],
   "source": [
    "# The test score for the model without optimization.\n",
    "# Notice that as expected the score for testing is a little smaller than the score for training.\n",
    "test_score = clf.score(test_x, test_y)\n",
    "print('Most important score!')\n",
    "print_score('Test Score', test_score)"
   ]
  },
  {
   "cell_type": "markdown",
   "metadata": {},
   "source": [
    "### 5b. Perform Random Forest "
   ]
  },
  {
   "cell_type": "code",
   "execution_count": 49,
   "metadata": {},
   "outputs": [
    {
     "name": "stdout",
     "output_type": "stream",
     "text": [
      "Fitting 3 folds for each of 320 candidates, totalling 960 fits\n"
     ]
    },
    {
     "name": "stderr",
     "output_type": "stream",
     "text": [
      "[Parallel(n_jobs=-1)]: Using backend LokyBackend with 8 concurrent workers.\n",
      "[Parallel(n_jobs=-1)]: Done  34 tasks      | elapsed:    7.2s\n",
      "[Parallel(n_jobs=-1)]: Done 184 tasks      | elapsed:   21.9s\n",
      "[Parallel(n_jobs=-1)]: Done 434 tasks      | elapsed:   44.7s\n",
      "[Parallel(n_jobs=-1)]: Done 784 tasks      | elapsed:  1.3min\n",
      "[Parallel(n_jobs=-1)]: Done 960 out of 960 | elapsed:  1.6min finished\n",
      "C:\\Users\\Catherine Liao\\Anaconda3\\lib\\site-packages\\sklearn\\model_selection\\_search.py:813: DeprecationWarning: The default of the `iid` parameter will change from True to False in version 0.22 and will be removed in 0.24. This will change numeric results when test-set sizes are unequal.\n",
      "  DeprecationWarning)\n"
     ]
    }
   ],
   "source": [
    "import random\n",
    "random.seed(2022)\n",
    "hyperF = dict(\n",
    "    n_estimators = [300, 500, 600, 700], \n",
    "    max_depth = [5, 8, 10, 15],  \n",
    "    min_samples_split = [2, 5, 10, 15, 100], \n",
    "    min_samples_leaf = [2, 5, 8, 12])\n",
    "forest = RandomForestClassifier(random_state = 1)\n",
    "gridF = GridSearchCV(forest, hyperF, cv = 3, verbose = 1, n_jobs = -1)\n",
    "bestF = gridF.fit(train_x, train_y)"
   ]
  },
  {
   "cell_type": "code",
   "execution_count": 50,
   "metadata": {},
   "outputs": [
    {
     "name": "stdout",
     "output_type": "stream",
     "text": [
      "Best Hyperparameter Combination\n",
      "----------------------------------------\n",
      "Max Depth = 5\n",
      "Min Samples Leaf  = 12\n",
      "Min Samples Split = 100\n",
      "Number of Estimators= 300\n"
     ]
    }
   ],
   "source": [
    "prms = bestF.best_params_\n",
    "print('Best Hyperparameter Combination')\n",
    "print('-' * 40)\n",
    "print('Max Depth = {0}'.format(prms['max_depth']))\n",
    "print('Min Samples Leaf  = {0}'.format(prms['min_samples_leaf']))\n",
    "print('Min Samples Split = {0}'.format(prms['min_samples_split']))\n",
    "print('Number of Estimators= {0}'.format(prms['n_estimators']))"
   ]
  },
  {
   "cell_type": "code",
   "execution_count": 51,
   "metadata": {},
   "outputs": [
    {
     "name": "stdout",
     "output_type": "stream",
     "text": [
      "CV score after Grid Seach = 74.8%\n"
     ]
    }
   ],
   "source": [
    "rf_clf = RandomForestClassifier(\n",
    "    random_state = 1, \n",
    "    max_depth = prms['max_depth'],\n",
    "    n_estimators = prms['n_estimators'],\n",
    "    min_samples_split = prms['min_samples_split'],\n",
    "    min_samples_leaf = prms['min_samples_leaf'])\n",
    "random_forest = rf_clf.fit(train_x, train_y)\n",
    "scores = cross_val_score(random_forest, train_x, train_y, cv=5)\n",
    "print_score('CV score after Grid Seach', scores.mean())"
   ]
  },
  {
   "cell_type": "code",
   "execution_count": 52,
   "metadata": {},
   "outputs": [
    {
     "name": "stdout",
     "output_type": "stream",
     "text": [
      "Final score after optimization\n",
      "Test Score = 75.1%\n"
     ]
    }
   ],
   "source": [
    "test_score = rf_clf.score(test_x, test_y)\n",
    "print('Final score after optimization')\n",
    "print_score('Test Score', test_score)"
   ]
  },
  {
   "cell_type": "markdown",
   "metadata": {},
   "source": [
    "### 5c. Perform Gradient Boosting Classifier"
   ]
  },
  {
   "cell_type": "code",
   "execution_count": 53,
   "metadata": {},
   "outputs": [
    {
     "name": "stdout",
     "output_type": "stream",
     "text": [
      "Fitting 3 folds for each of 16 candidates, totalling 48 fits\n"
     ]
    },
    {
     "name": "stderr",
     "output_type": "stream",
     "text": [
      "[Parallel(n_jobs=-1)]: Using backend LokyBackend with 8 concurrent workers.\n",
      "[Parallel(n_jobs=-1)]: Done  48 out of  48 | elapsed:   12.5s finished\n",
      "C:\\Users\\Catherine Liao\\Anaconda3\\lib\\site-packages\\sklearn\\model_selection\\_search.py:813: DeprecationWarning: The default of the `iid` parameter will change from True to False in version 0.22 and will be removed in 0.24. This will change numeric results when test-set sizes are unequal.\n",
      "  DeprecationWarning)\n"
     ]
    }
   ],
   "source": [
    "import random\n",
    "random.seed(2022)\n",
    "hyperF = dict(\n",
    "    n_estimators = [300, 500, 600, 700], \n",
    "    max_depth = [5, 8, 10, 15])\n",
    "forest = GradientBoostingClassifier(random_state = 1)\n",
    "gridF = GridSearchCV(forest, hyperF, cv = 3, verbose = 1, n_jobs = -1)\n",
    "bestF = gridF.fit(train_x, train_y)"
   ]
  },
  {
   "cell_type": "code",
   "execution_count": 54,
   "metadata": {},
   "outputs": [
    {
     "name": "stdout",
     "output_type": "stream",
     "text": [
      "CV score after Grid Seach = 70.5%\n"
     ]
    }
   ],
   "source": [
    "rf_clf = GradientBoostingClassifier(\n",
    "    random_state = 1, \n",
    "    max_depth = prms['max_depth'],\n",
    "    n_estimators = prms['n_estimators'])\n",
    "random_forest = rf_clf.fit(train_x, train_y)\n",
    "scores = cross_val_score(random_forest, train_x, train_y, cv=5)\n",
    "print_score('CV score after Grid Seach', scores.mean())"
   ]
  },
  {
   "cell_type": "code",
   "execution_count": 55,
   "metadata": {},
   "outputs": [
    {
     "name": "stdout",
     "output_type": "stream",
     "text": [
      "Final score after optimization\n",
      "Test Score = 69.5%\n"
     ]
    }
   ],
   "source": [
    "test_score = rf_clf.score(test_x, test_y)\n",
    "print('Final score after optimization')\n",
    "print_score('Test Score', test_score)"
   ]
  },
  {
   "cell_type": "markdown",
   "metadata": {},
   "source": [
    "### 5d. Using Data only all the features except for Age and running prediction models"
   ]
  },
  {
   "cell_type": "code",
   "execution_count": 56,
   "metadata": {},
   "outputs": [
    {
     "name": "stdout",
     "output_type": "stream",
     "text": [
      "(889, 20)\n",
      "(417, 20)\n"
     ]
    }
   ],
   "source": [
    "# Make sure we get reproducible results.\n",
    "import random\n",
    "random.seed(1234)\n",
    "\n",
    "def model_x_df(df):\n",
    "    predictors = ['Pclass', 'Parch', 'Fare', 'relatives']\n",
    "    data_x = df[predictors].copy()\n",
    "    data_sex_x = pd.get_dummies(df.Sex, prefix='sex')\n",
    "    data_alone_x = pd.get_dummies(df.alone, prefix='alone')\n",
    "    data_embarked_x = pd.get_dummies(df.Embarked, prefix='emb')\n",
    "    data_deck_x = pd.get_dummies(df.Deck, prefix='deck')\n",
    "    result = pd.concat(\n",
    "        [data_x, data_sex_x, data_alone_x, data_embarked_x, data_deck_x], axis=1)\n",
    "    required_fields = [\n",
    "        'Pclass', 'Parch', 'Fare', 'relatives', \n",
    "        'sex_female', 'sex_male',\n",
    "        'alone_No', 'alone_Yes', \n",
    "        'emb_C', 'emb_Q', 'emb_S', \n",
    "        'deck_0', 'deck_1', 'deck_2', 'deck_3', 'deck_4', 'deck_5', 'deck_6', 'deck_7', 'deck_8']\n",
    "    for req_field in required_fields:\n",
    "        if req_field not in result.columns:\n",
    "             result[req_field] = 0\n",
    "    # Make sure the fields are ordered the same way.\n",
    "    return result[required_fields]\n",
    "\n",
    "def model_y_1d(df):\n",
    "    return df['Survived'].values.ravel()\n",
    "\n",
    "train_x = model_x_df(new_train)\n",
    "train_y = model_y_1d(new_train)\n",
    "\n",
    "test_x = model_x_df(new_test)\n",
    "test_y = model_y_1d(new_test)\n",
    "\n",
    "print(train_x.shape)\n",
    "print(test_x.shape)"
   ]
  },
  {
   "cell_type": "code",
   "execution_count": 57,
   "metadata": {},
   "outputs": [],
   "source": [
    "clf = BaggingClassifier(\n",
    "    KNeighborsClassifier(), max_samples=0.5, max_features=0.5)\n",
    "bagging = clf.fit(train_x, train_y)"
   ]
  },
  {
   "cell_type": "code",
   "execution_count": 58,
   "metadata": {},
   "outputs": [
    {
     "name": "stdout",
     "output_type": "stream",
     "text": [
      "Simple Cross-Validation Score = 74.1%\n"
     ]
    }
   ],
   "source": [
    "# Basic - Cross Validation without optimization\n",
    "# Did 10-fold instead of 5\n",
    "cv_scores = cross_val_score(bagging, train_x, train_y, cv=10)\n",
    "print_score('Simple Cross-Validation Score', cv_scores.mean())"
   ]
  },
  {
   "cell_type": "code",
   "execution_count": 59,
   "metadata": {},
   "outputs": [
    {
     "name": "stdout",
     "output_type": "stream",
     "text": [
      "Most important score!\n",
      "Test Score = 71.7%\n"
     ]
    }
   ],
   "source": [
    "# The test score for the model without optimization.\n",
    "# Notice that as expected the score for testing is a little smaller than the score for training.\n",
    "test_score = clf.score(test_x, test_y)\n",
    "print('Most important score!')\n",
    "print_score('Test Score', test_score)"
   ]
  },
  {
   "cell_type": "code",
   "execution_count": 60,
   "metadata": {},
   "outputs": [
    {
     "name": "stdout",
     "output_type": "stream",
     "text": [
      "Fitting 3 folds for each of 320 candidates, totalling 960 fits\n"
     ]
    },
    {
     "name": "stderr",
     "output_type": "stream",
     "text": [
      "[Parallel(n_jobs=-1)]: Using backend LokyBackend with 8 concurrent workers.\n",
      "[Parallel(n_jobs=-1)]: Done  34 tasks      | elapsed:    3.3s\n",
      "[Parallel(n_jobs=-1)]: Done 184 tasks      | elapsed:   19.6s\n",
      "[Parallel(n_jobs=-1)]: Done 434 tasks      | elapsed:   46.2s\n",
      "[Parallel(n_jobs=-1)]: Done 784 tasks      | elapsed:  1.4min\n",
      "[Parallel(n_jobs=-1)]: Done 960 out of 960 | elapsed:  1.7min finished\n",
      "C:\\Users\\Catherine Liao\\Anaconda3\\lib\\site-packages\\sklearn\\model_selection\\_search.py:813: DeprecationWarning: The default of the `iid` parameter will change from True to False in version 0.22 and will be removed in 0.24. This will change numeric results when test-set sizes are unequal.\n",
      "  DeprecationWarning)\n"
     ]
    }
   ],
   "source": [
    "random.seed(2022)\n",
    "hyperF = dict(\n",
    "    n_estimators = [300, 500, 600, 700], \n",
    "    max_depth = [5, 8, 10, 15],  \n",
    "    min_samples_split = [2, 5, 10, 15, 100], \n",
    "    min_samples_leaf = [2, 5, 8, 12])\n",
    "forest = RandomForestClassifier(random_state = 1)\n",
    "gridF = GridSearchCV(forest, hyperF, cv = 3, verbose = 1, n_jobs = -1)\n",
    "bestF = gridF.fit(train_x, train_y)"
   ]
  },
  {
   "cell_type": "code",
   "execution_count": 61,
   "metadata": {},
   "outputs": [
    {
     "name": "stdout",
     "output_type": "stream",
     "text": [
      "Best Hyperparameter Combination\n",
      "----------------------------------------\n",
      "Max Depth = 8\n",
      "Min Samples Leaf  = 12\n",
      "Min Samples Split = 100\n",
      "Number of Estimators= 500\n"
     ]
    }
   ],
   "source": [
    "prms = bestF.best_params_\n",
    "print('Best Hyperparameter Combination')\n",
    "print('-' * 40)\n",
    "print('Max Depth = {0}'.format(prms['max_depth']))\n",
    "print('Min Samples Leaf  = {0}'.format(prms['min_samples_leaf']))\n",
    "print('Min Samples Split = {0}'.format(prms['min_samples_split']))\n",
    "print('Number of Estimators= {0}'.format(prms['n_estimators']))"
   ]
  },
  {
   "cell_type": "code",
   "execution_count": 62,
   "metadata": {},
   "outputs": [
    {
     "name": "stdout",
     "output_type": "stream",
     "text": [
      "CV score after Grid Seach = 74.9%\n"
     ]
    }
   ],
   "source": [
    "rf_clf = RandomForestClassifier(\n",
    "    random_state = 1, \n",
    "    max_depth = prms['max_depth'],\n",
    "    n_estimators = prms['n_estimators'],\n",
    "    min_samples_split = prms['min_samples_split'],\n",
    "    min_samples_leaf = prms['min_samples_leaf'])\n",
    "random_forest = rf_clf.fit(train_x, train_y)\n",
    "scores = cross_val_score(random_forest, train_x, train_y, cv=5)\n",
    "print_score('CV score after Grid Seach', scores.mean())"
   ]
  },
  {
   "cell_type": "code",
   "execution_count": 63,
   "metadata": {},
   "outputs": [
    {
     "name": "stdout",
     "output_type": "stream",
     "text": [
      "Final score after optimization\n",
      "Test Score = 74.8%\n"
     ]
    }
   ],
   "source": [
    "test_score = rf_clf.score(test_x, test_y)\n",
    "print('Final score after optimization')\n",
    "print_score('Test Score', test_score)"
   ]
  },
  {
   "cell_type": "code",
   "execution_count": 64,
   "metadata": {},
   "outputs": [
    {
     "name": "stdout",
     "output_type": "stream",
     "text": [
      "Fitting 3 folds for each of 16 candidates, totalling 48 fits\n"
     ]
    },
    {
     "name": "stderr",
     "output_type": "stream",
     "text": [
      "[Parallel(n_jobs=-1)]: Using backend LokyBackend with 8 concurrent workers.\n",
      "[Parallel(n_jobs=-1)]: Done  48 out of  48 | elapsed:   13.8s finished\n",
      "C:\\Users\\Catherine Liao\\Anaconda3\\lib\\site-packages\\sklearn\\model_selection\\_search.py:813: DeprecationWarning: The default of the `iid` parameter will change from True to False in version 0.22 and will be removed in 0.24. This will change numeric results when test-set sizes are unequal.\n",
      "  DeprecationWarning)\n"
     ]
    }
   ],
   "source": [
    "random.seed(2022)\n",
    "hyperF = dict(\n",
    "    n_estimators = [300, 500, 600, 700], \n",
    "    max_depth = [5, 8, 10, 15])\n",
    "forest = GradientBoostingClassifier(random_state = 1)\n",
    "gridF = GridSearchCV(forest, hyperF, cv = 3, verbose = 1, n_jobs = -1)\n",
    "bestF = gridF.fit(train_x, train_y)"
   ]
  },
  {
   "cell_type": "code",
   "execution_count": 65,
   "metadata": {},
   "outputs": [
    {
     "name": "stdout",
     "output_type": "stream",
     "text": [
      "CV score after Grid Seach = 71.5%\n"
     ]
    }
   ],
   "source": [
    "rf_clf = GradientBoostingClassifier(\n",
    "    random_state = 1, \n",
    "    max_depth = prms['max_depth'],\n",
    "    n_estimators = prms['n_estimators'])\n",
    "random_forest = rf_clf.fit(train_x, train_y)\n",
    "scores = cross_val_score(random_forest, train_x, train_y, cv=5)\n",
    "print_score('CV score after Grid Seach', scores.mean())"
   ]
  },
  {
   "cell_type": "code",
   "execution_count": 66,
   "metadata": {},
   "outputs": [
    {
     "name": "stdout",
     "output_type": "stream",
     "text": [
      "Final score after optimization\n",
      "Test Score = 73.1%\n"
     ]
    }
   ],
   "source": [
    "test_score = rf_clf.score(test_x, test_y)\n",
    "print('Final score after optimization')\n",
    "print_score('Test Score', test_score)"
   ]
  },
  {
   "cell_type": "markdown",
   "metadata": {},
   "source": [
    "# 6. Findings and Conclusion\n",
    "\n",
    "- Excluding age seemed to improve test scores for some models while lowering test scores in another.\n",
    "- Random Forest model performed the best out of the three.\n",
    "\n",
    "K-neighbor results (no grid search)\n",
    "Dataset 1                 Dataset 2\n",
    "CV score 1: 74.1    vs    CV score 2: 74.1\n",
    "Test score 1: 69.5    vs    Test score 2: 71.7\n",
    "\n",
    "For the Random Forest results (with grid search)\n",
    "Dataset 1                 Dataset 2 \n",
    "CV score 1: 74.8    vs    CV score 2: 74.9\n",
    "Test score 1: 75.1    vs    Test score 2: 74.8\n",
    "\n",
    "For the Gradient Boosting results (with grid search)\n",
    "Dataset 1                 Dataset 2\n",
    "CV score 1: 70.5    vs    CV score 2: 71.5\n",
    "Test score 1: 69.5    vs    Test score 2: 73.1\n",
    "\n",
    "Conclusion: From this exploratory analysis, contrary to common belief of survival on the Titanic, it seemed as if intially the effect of age was not significant when comparing survived and not survived population's age distributions using KS test. Two different datasets, one with and the other without the age feature were made and used to predict survival. Overall excluding age seemed to improve test scores for some models while lowering test scores in another. However, the overall change in scores were not that big to begin with hence it is suggested that further stratification of data for analysis should be done to reach a clearer conclusion of the effects of age on survival."
   ]
  },
  {
   "cell_type": "markdown",
   "metadata": {},
   "source": [
    "# Future Work and Extra notes\n",
    "\n",
    "- May have to look up more information regarding parameters related to gradient boosting classifier to see improvement in scores.\n",
    "\n",
    "- Not entirely sure if statistical tests were used correctly but still wanted to try it out.\n",
    "\n",
    "- The way of handling missing data (sampling from normal distributions of age per class) may have not been most accurate method. However again, still wanted to try it out.\n",
    "\n",
    "- Using Grid Search may have made the notion of comparing different models or different datasets unsuitable since different parameters would have been used for same types of classifiers.\n",
    "\n",
    "- Some CV scores show lower scores than test scores. Might have to search up why it's like that."
   ]
  },
  {
   "cell_type": "code",
   "execution_count": null,
   "metadata": {},
   "outputs": [],
   "source": []
  }
 ],
 "metadata": {
  "kernelspec": {
   "display_name": "Python 3",
   "language": "python",
   "name": "python3"
  },
  "language_info": {
   "codemirror_mode": {
    "name": "ipython",
    "version": 3
   },
   "file_extension": ".py",
   "mimetype": "text/x-python",
   "name": "python",
   "nbconvert_exporter": "python",
   "pygments_lexer": "ipython3",
   "version": "3.7.3"
  }
 },
 "nbformat": 4,
 "nbformat_minor": 2
}
